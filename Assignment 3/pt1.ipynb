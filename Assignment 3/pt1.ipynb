{
 "cells": [
  {
   "cell_type": "code",
   "execution_count": null,
   "metadata": {
    "id": "wmzPuiFIOLhu"
   },
   "outputs": [],
   "source": [
    "from sklearn.datasets import fetch_lfw_people\n",
    "import numpy as np\n",
    "from sklearn.model_selection import train_test_split\n",
    "import seaborn as sns\n",
    "from matplotlib import pyplot as plt\n",
    "from sklearn.decomposition import PCA\n",
    "from sklearn.neural_network import MLPClassifier\n",
    "from sklearn.metrics import accuracy_score, confusion_matrix"
   ]
  },
  {
   "cell_type": "code",
   "execution_count": null,
   "metadata": {
    "id": "7Cv8vBTHOwuC"
   },
   "outputs": [],
   "source": [
    "lfw = fetch_lfw_people(min_faces_per_person=150, resize=0.4)"
   ]
  },
  {
   "cell_type": "code",
   "execution_count": null,
   "metadata": {
    "id": "kDZInRbcPWzq"
   },
   "outputs": [],
   "source": [
    "X, y = lfw.data, lfw.target"
   ]
  },
  {
   "cell_type": "code",
   "execution_count": 88,
   "metadata": {
    "id": "ucnljU2lReug"
   },
   "outputs": [],
   "source": [
    "# Pipeline - stage 1 ->(x)->(reducued)\n",
    "def do_pca(n_components, x):\n",
    "    pca = PCA(n_components=n_components, random_state=2)\n",
    "    reduced = pca.fit_transform(x)\n",
    "    return reduced\n",
    "# Pipeline - stage 2 ->(reduced, y)->(train_set, test_set)\n",
    "def split(reduced, y):\n",
    "    return train_test_split(reduced, y, test_size=0.25, random_state=2)\n",
    "def train_eval_mlp(splitted):\n",
    "    X_train, X_test, y_train, y_test = splitted\n",
    "    mlp = MLPClassifier(random_state=2)\n",
    "    mlp.fit(X_train, y_train)\n",
    "    return mlp, accuracy_score(y_test, mlp.predict(X_test))"
   ]
  },
  {
   "cell_type": "code",
   "execution_count": null,
   "metadata": {
    "colab": {
     "base_uri": "https://localhost:8080/"
    },
    "id": "cg8qPmyNddj_",
    "outputId": "101ab5da-105f-4279-a08d-170b8402fbd9"
   },
   "outputs": [
    {
     "data": {
      "text/plain": [
       "(766, 1850)"
      ]
     },
     "execution_count": 50,
     "metadata": {},
     "output_type": "execute_result"
    }
   ],
   "source": [
    "X.shape"
   ]
  },
  {
   "cell_type": "code",
   "execution_count": 89,
   "metadata": {
    "colab": {
     "base_uri": "https://localhost:8080/"
    },
    "id": "Wt2wHiQ9b53S",
    "outputId": "f0b6b244-935b-49f1-9c1c-31a13450c2d6"
   },
   "outputs": [
    {
     "name": "stdout",
     "output_type": "stream",
     "text": [
      "n_components: 5 Accuracy: 0.6927083333333334\n",
      "n_components: 15 Accuracy: 0.8541666666666666\n",
      "n_components: 25 Accuracy: 0.8697916666666666\n",
      "n_components: 35 Accuracy: 0.9010416666666666\n",
      "n_components: 45 Accuracy: 0.8854166666666666\n",
      "n_components: 55 Accuracy: 0.875\n",
      "n_components: 65 Accuracy: 0.8958333333333334\n",
      "n_components: 75 Accuracy: 0.9114583333333334\n",
      "n_components: 85 Accuracy: 0.8541666666666666\n",
      "n_components: 95 Accuracy: 0.890625\n",
      "n_components: 105 Accuracy: 0.8854166666666666\n",
      "n_components: 115 Accuracy: 0.9010416666666666\n",
      "n_components: 125 Accuracy: 0.8802083333333334\n",
      "n_components: 135 Accuracy: 0.8645833333333334\n",
      "n_components: 145 Accuracy: 0.859375\n",
      "n_components: 155 Accuracy: 0.8385416666666666\n",
      "n_components: 165 Accuracy: 0.875\n",
      "n_components: 175 Accuracy: 0.890625\n",
      "n_components: 185 Accuracy: 0.8697916666666666\n",
      "n_components: 195 Accuracy: 0.8333333333333334\n",
      "n_components: 205 Accuracy: 0.8489583333333334\n",
      "n_components: 215 Accuracy: 0.8385416666666666\n",
      "n_components: 225 Accuracy: 0.8958333333333334\n",
      "n_components: 235 Accuracy: 0.9114583333333334\n",
      "n_components: 245 Accuracy: 0.8385416666666666\n",
      "n_components: 255 Accuracy: 0.875\n",
      "n_components: 265 Accuracy: 0.828125\n",
      "n_components: 275 Accuracy: 0.84375\n",
      "n_components: 285 Accuracy: 0.8645833333333334\n",
      "n_components: 295 Accuracy: 0.859375\n",
      "n_components: 305 Accuracy: 0.9010416666666666\n",
      "n_components: 315 Accuracy: 0.8958333333333334\n",
      "n_components: 325 Accuracy: 0.8020833333333334\n",
      "n_components: 335 Accuracy: 0.875\n",
      "n_components: 345 Accuracy: 0.8854166666666666\n",
      "n_components: 355 Accuracy: 0.8697916666666666\n",
      "n_components: 365 Accuracy: 0.8229166666666666\n",
      "n_components: 375 Accuracy: 0.8802083333333334\n"
     ]
    }
   ],
   "source": [
    "scores = []\n",
    "n_comps = []\n",
    "max_n_components = int(min(X.shape)/2)\n",
    "for i in range(5, max_n_components, 10):\n",
    "    reduced = do_pca(i, X)\n",
    "    model, score = train_eval_mlp(split(reduced, y))\n",
    "    n_comps.append(i)\n",
    "    scores.append(score)\n",
    "    print(\"n_components:\", i, \"Accuracy:\", score)"
   ]
  },
  {
   "cell_type": "code",
   "execution_count": 90,
   "metadata": {
    "colab": {
     "base_uri": "https://localhost:8080/",
     "height": 297
    },
    "id": "NIq_7XSFc0ZT",
    "outputId": "285eb2d6-8b4a-4559-bdc5-ed15affb55a7"
   },
   "outputs": [
    {
     "data": {
      "image/png": "[encoded data removed]",
      "text/plain": [
       "<Figure size 432x288 with 1 Axes>"
      ]
     },
     "metadata": {
      "needs_background": "light"
     },
     "output_type": "display_data"
    }
   ],
   "source": [
    "plt.plot(n_comps, scores)\n",
    "plt.xlabel('PCA n_components')\n",
    "plt.ylabel('Test Accuracy')\n",
    "plt.tight_layout()\n",
    "plt.show()"
   ]
  },
  {
   "cell_type": "code",
   "execution_count": 91,
   "metadata": {
    "colab": {
     "base_uri": "https://localhost:8080/"
    },
    "id": "MRpUG1aqeqqP",
    "outputId": "e1089f9d-b258-480b-bac1-8c886e8d6711"
   },
   "outputs": [
    {
     "name": "stdout",
     "output_type": "stream",
     "text": [
      "Highest test accuracy (0.9114583333333334) was reached with n_components=75\n"
     ]
    }
   ],
   "source": [
    "best_n_comp = n_comps[scores.index(max(scores))]\n",
    "print(\"Highest test accuracy ({0}) was reached with n_components={1}\".format(max(scores), best_n_comp))"
   ]
  },
  {
   "cell_type": "code",
   "execution_count": 92,
   "metadata": {
    "colab": {
     "base_uri": "https://localhost:8080/"
    },
    "id": "qXRWXx7hihmJ",
    "outputId": "efa22e1a-d2d0-4b74-9d34-57d0a77c7101"
   },
   "outputs": [
    {
     "name": "stdout",
     "output_type": "stream",
     "text": [
      "n_components: 65 Accuracy: 0.8958333333333334\n",
      "n_components: 66 Accuracy: 0.8697916666666666\n",
      "n_components: 67 Accuracy: 0.921875\n",
      "n_components: 68 Accuracy: 0.8958333333333334\n",
      "n_components: 69 Accuracy: 0.8645833333333334\n",
      "n_components: 70 Accuracy: 0.9166666666666666\n",
      "n_components: 71 Accuracy: 0.9010416666666666\n",
      "n_components: 72 Accuracy: 0.8958333333333334\n",
      "n_components: 73 Accuracy: 0.8645833333333334\n",
      "n_components: 74 Accuracy: 0.9114583333333334\n",
      "n_components: 75 Accuracy: 0.9114583333333334\n",
      "n_components: 76 Accuracy: 0.8854166666666666\n",
      "n_components: 77 Accuracy: 0.8802083333333334\n",
      "n_components: 78 Accuracy: 0.90625\n",
      "n_components: 79 Accuracy: 0.8958333333333334\n",
      "n_components: 80 Accuracy: 0.8645833333333334\n",
      "n_components: 81 Accuracy: 0.8697916666666666\n",
      "n_components: 82 Accuracy: 0.8645833333333334\n",
      "n_components: 83 Accuracy: 0.8958333333333334\n",
      "n_components: 84 Accuracy: 0.8541666666666666\n"
     ]
    }
   ],
   "source": [
    "# Secondary narrowed bruteforce\n",
    "scores = []\n",
    "n_comps = []\n",
    "for i in range(best_n_comp-10, best_n_comp+10):\n",
    "    reduced = do_pca(i, X)\n",
    "    model, score = train_eval_mlp(split(reduced, y))\n",
    "    n_comps.append(i)\n",
    "    scores.append(score)\n",
    "    print(\"n_components:\", i, \"Accuracy:\", score)"
   ]
  },
  {
   "cell_type": "code",
   "execution_count": 93,
   "metadata": {
    "colab": {
     "base_uri": "https://localhost:8080/"
    },
    "id": "x05UAlCkiyfs",
    "outputId": "778c74d9-6398-4767-8738-f3c2754a3f09"
   },
   "outputs": [
    {
     "name": "stdout",
     "output_type": "stream",
     "text": [
      "Highest test accuracy (0.921875) was reached with n_components=67\n"
     ]
    }
   ],
   "source": [
    "best_n_comp = n_comps[scores.index(max(scores))]\n",
    "print(\"Highest test accuracy ({0}) was reached with n_components={1}\".format(max(scores), best_n_comp))"
   ]
  },
  {
   "cell_type": "code",
   "execution_count": 94,
   "metadata": {
    "id": "uwMBxqyAfMot"
   },
   "outputs": [],
   "source": [
    "reduced = do_pca(best_n_comp, X)\n",
    "splitted = split(reduced, y)\n",
    "X_train, X_test, y_train, y_test = splitted\n",
    "model, score = train_eval_mlp(splitted)\n",
    "y_pred = model.predict(X_test)"
   ]
  },
  {
   "cell_type": "code",
   "execution_count": 95,
   "metadata": {
    "colab": {
     "base_uri": "https://localhost:8080/"
    },
    "id": "ElG0rCYMfeVH",
    "outputId": "9716b6c5-e3a6-4ccc-c44a-89a313f69e8b"
   },
   "outputs": [
    {
     "data": {
      "text/plain": [
       "array([[ 55,   7],\n",
       "       [  8, 122]])"
      ]
     },
     "execution_count": 95,
     "metadata": {},
     "output_type": "execute_result"
    }
   ],
   "source": [
    "confusion_matrix(y_test, y_pred)"
   ]
  }
 ],
 "metadata": {
  "colab": {
   "name": "01.ipynb",
   "provenance": []
  },
  "kernelspec": {
   "display_name": "Python 3",
   "language": "python",
   "name": "python3"
  },
  "language_info": {
   "codemirror_mode": {
    "name": "ipython",
    "version": 3
   },
   "file_extension": ".py",
   "mimetype": "text/x-python",
   "name": "python",
   "nbconvert_exporter": "python",
   "pygments_lexer": "ipython3",
   "version": "3.8.3"
  }
 },
 "nbformat": 4,
 "nbformat_minor": 1
}
